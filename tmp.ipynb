{
 "cells": [
  {
   "cell_type": "code",
   "execution_count": 6,
   "metadata": {},
   "outputs": [],
   "source": [
    "import numpy as np\n",
    "import pandas as pd\n",
    "\n",
    "df_entry = []\n",
    "for p in [3,10,25,50,100,500,1000]:\n",
    "    for K in [2,5,10]:\n",
    "        if p<=K:\n",
    "            continue\n",
    "        for k in range(K):\n",
    "            A = np.loadtxt('data/synthetic/centroids/synth_cov_p'+str(p)+'K'+str(K)+'_'+str(k+1)+'.csv', delimiter=',')\n",
    "            rank = np.linalg.matrix_rank(A)\n",
    "            cond = np.linalg.cond(A)\n",
    "            df_entry.append({'p':p,'K':K,'k':k+1,'rank':rank,'det':np.linalg.det(A),'cond':cond})"
   ]
  },
  {
   "cell_type": "code",
   "execution_count": 1,
   "metadata": {},
   "outputs": [],
   "source": [
    "import numpy as np\n",
    "\n",
    "M = np.random.rand(5,3)"
   ]
  },
  {
   "cell_type": "code",
   "execution_count": 4,
   "metadata": {},
   "outputs": [
    {
     "data": {
      "text/plain": [
       "-0.6511718258039841"
      ]
     },
     "execution_count": 4,
     "metadata": {},
     "output_type": "execute_result"
    }
   ],
   "source": [
    "Psi = np.eye(5)+M@M.T\n",
    "X = np.random.rand(5,2)\n",
    "S = X@X.T\n",
    "np.trace(-1/2*np.linalg.inv(Psi)@S)"
   ]
  },
  {
   "cell_type": "code",
   "execution_count": 5,
   "metadata": {},
   "outputs": [
    {
     "data": {
      "text/plain": [
       "-0.6511718258039841"
      ]
     },
     "execution_count": 5,
     "metadata": {},
     "output_type": "execute_result"
    }
   ],
   "source": [
    "-1/2*np.trace(np.linalg.inv(Psi)@S)"
   ]
  },
  {
   "cell_type": "code",
   "execution_count": 2,
   "metadata": {},
   "outputs": [
    {
     "data": {
      "text/plain": [
       "12.63143317501363"
      ]
     },
     "execution_count": 2,
     "metadata": {},
     "output_type": "execute_result"
    }
   ],
   "source": [
    "np.trace(M@M.T@M@M.T)"
   ]
  },
  {
   "cell_type": "code",
   "execution_count": 7,
   "metadata": {},
   "outputs": [
    {
     "data": {
      "text/plain": [
       "12.631433175013631"
      ]
     },
     "execution_count": 7,
     "metadata": {},
     "output_type": "execute_result"
    }
   ],
   "source": [
    "np.linalg.norm(M.T@M)**2"
   ]
  },
  {
   "cell_type": "code",
   "execution_count": 7,
   "metadata": {},
   "outputs": [],
   "source": [
    "df = pd.DataFrame(df_entry)"
   ]
  },
  {
   "cell_type": "code",
   "execution_count": 15,
   "metadata": {},
   "outputs": [
    {
     "data": {
      "image/png": "[encoded data removed]",
      "text/plain": [
       "<Figure size 640x480 with 1 Axes>"
      ]
     },
     "metadata": {},
     "output_type": "display_data"
    }
   ],
   "source": [
    "A = np.loadtxt('data/synthetic/centroids/synth_cov_p1000K10_10.csv', delimiter=',')\n",
    "S,_ = np.linalg.eigh(A)\n",
    "import matplotlib.pyplot as plt\n",
    "plt.plot(S[::-1])\n",
    "plt.xlim([0,10])\n",
    "#log scale\n",
    "plt.yscale('log')   \n"
   ]
  },
  {
   "cell_type": "code",
   "execution_count": 20,
   "metadata": {},
   "outputs": [],
   "source": [
    "X = np.loadtxt('data/synthetic/synth_data_ACG_p25K10_1.csv', delimiter=',')\n",
    "X1 = X[:1000]\n",
    "\n",
    "S = np.linalg.svd(X1, compute_uv=False)"
   ]
  }
 ],
 "metadata": {
  "kernelspec": {
   "display_name": "Python 3",
   "language": "python",
   "name": "python3"
  },
  "language_info": {
   "codemirror_mode": {
    "name": "ipython",
    "version": 3
   },
   "file_extension": ".py",
   "mimetype": "text/x-python",
   "name": "python",
   "nbconvert_exporter": "python",
   "pygments_lexer": "ipython3",
   "version": "3.10.13"
  }
 },
 "nbformat": 4,
 "nbformat_minor": 2
}
