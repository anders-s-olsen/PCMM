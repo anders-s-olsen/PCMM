{
 "cells": [
  {
   "cell_type": "code",
   "execution_count": 20,
   "metadata": {},
   "outputs": [],
   "source": [
    "#%%\n",
    "import numpy as np\n",
    "from sklearn.cluster import KMeans\n",
    "import pandas as pd\n",
    "import matplotlib.pyplot as plt\n",
    "df = pd.DataFrame()\n",
    "num_repeats = 10\n",
    "scale = 0.5\n",
    "num_points_per_cluster = 1000"
   ]
  },
  {
   "cell_type": "code",
   "execution_count": 21,
   "metadata": {},
   "outputs": [],
   "source": [
    "def calc_MI(Z1,Z2):\n",
    "    P=Z1@Z2.T\n",
    "    PXY=P/np.sum(P)\n",
    "    PXPY=np.outer(np.sum(PXY,axis=1),np.sum(PXY,axis=0))\n",
    "    ind=np.where(PXY>0)\n",
    "    MI=np.sum(PXY[ind]*np.log(PXY[ind]/PXPY[ind]))\n",
    "    return MI\n",
    "\n",
    "def calc_NMI(Z1,Z2):\n",
    "    Z1 = np.double(Z1)\n",
    "    Z2 = np.double(Z2)\n",
    "    #Z1 and Z2 are two partition matrices of size (KxN) where K is number of components and N is number of samples\n",
    "    NMI = (2*calc_MI(Z1,Z2))/(calc_MI(Z1,Z1)+calc_MI(Z2,Z2))\n",
    "    return NMI"
   ]
  },
  {
   "cell_type": "code",
   "execution_count": 22,
   "metadata": {},
   "outputs": [],
   "source": [
    "theta1 = np.array([0,np.pi/2,np.pi])\n",
    "theta2 = np.array([0,np.pi,np.pi/2])\n",
    "\n",
    "u_all1 = np.zeros((num_points_per_cluster,3,2))\n",
    "u_all2 = np.zeros((num_points_per_cluster,3,2))\n",
    "for n in range(num_points_per_cluster):\n",
    "    theta_random = np.array([theta1[0]+np.random.random()*scale,theta1[1]+np.random.random()*scale,theta1[2]+np.random.random()*scale])\n",
    "    coh_map = np.outer(np.cos(theta_random),np.cos(theta_random))+np.outer(np.sin(theta_random),np.sin(theta_random))\n",
    "    l,u = np.linalg.eig(coh_map)\n",
    "    order = np.argsort(l)[::-1]\n",
    "    u_all1[n,:,0] = u[:,order[0]]\n",
    "    u_all1[n,:,1] = u[:,order[1]]\n",
    "\n",
    "    theta_random = np.array([theta2[0]+np.random.random()*scale,theta2[1]+np.random.random()*scale,theta2[2]+np.random.random()*scale])\n",
    "    coh_map = np.outer(np.cos(theta_random),np.cos(theta_random))+np.outer(np.sin(theta_random),np.sin(theta_random))\n",
    "    l,u = np.linalg.eig(coh_map)\n",
    "    order = np.argsort(l)[::-1]\n",
    "    u_all2[n,:,0] = u[:,order[0]]\n",
    "    u_all2[n,:,1] = u[:,order[1]]\n",
    "u_all = np.concatenate((u_all1,u_all2),axis=0)\n",
    "true_labels = np.zeros((2,num_points_per_cluster*2))\n",
    "true_labels[0,:num_points_per_cluster] = 1\n",
    "true_labels[1,num_points_per_cluster:] = 1"
   ]
  },
  {
   "cell_type": "markdown",
   "metadata": {},
   "source": [
    "K-means with sign-flip"
   ]
  },
  {
   "cell_type": "code",
   "execution_count": 23,
   "metadata": {},
   "outputs": [],
   "source": [
    "u_in = u_all[:,:,0]\n",
    "for n in range(num_points_per_cluster*2):\n",
    "    if np.sum(u_in[n]>0)>1:\n",
    "        u_in[n] = -u_in[n]\n",
    "\n",
    "for i in range(num_repeats):\n",
    "    kmeans = KMeans(n_clusters=2, random_state=0).fit(u_in)\n",
    "    labels = np.zeros((2,num_points_per_cluster*2))\n",
    "    labels[0,kmeans.labels_==0] = 1\n",
    "    labels[1,kmeans.labels_==1] = 1\n",
    "    nmi = calc_NMI(true_labels,labels)\n",
    "    df = pd.concat([df,pd.DataFrame({'method':'kmeans','repeat':i,'centroids':[kmeans.cluster_centers_],'nmi':nmi,'label':[labels]})])"
   ]
  },
  {
   "cell_type": "markdown",
   "metadata": {},
   "source": [
    "Diametrical clustering"
   ]
  },
  {
   "cell_type": "code",
   "execution_count": 24,
   "metadata": {},
   "outputs": [],
   "source": [
    "from src.DMM_EM.riemannian_clustering import diametrical_clustering\n",
    "u_in = u_all[:,:,0]\n",
    "for i in range(num_repeats):\n",
    "    C,part,obj = diametrical_clustering(u_in,2)\n",
    "    labels = np.zeros((2,num_points_per_cluster*2))\n",
    "    labels[0,part==0] = 1\n",
    "    labels[1,part==1] = 1\n",
    "    nmi = calc_NMI(true_labels,labels)\n",
    "    df = pd.concat([df,pd.DataFrame({'method':'diametrical','repeat':i,'centroids':[C],'nmi':nmi,'label':[labels]})])\n"
   ]
  },
  {
   "cell_type": "markdown",
   "metadata": {},
   "source": [
    "Grassmann clustering"
   ]
  },
  {
   "cell_type": "code",
   "execution_count": 25,
   "metadata": {},
   "outputs": [],
   "source": [
    "from src.DMM_EM.riemannian_clustering import grassmannian_clustering_gruber2006\n",
    "u_in = u_all\n",
    "for i in range(num_repeats):\n",
    "    C,part,obj = grassmannian_clustering_gruber2006(u_in,2)\n",
    "    labels = np.zeros((2,num_points_per_cluster*2))\n",
    "    labels[0,part==0] = 1\n",
    "    labels[1,part==1] = 1\n",
    "    nmi = calc_NMI(true_labels,labels)\n",
    "    df = pd.concat([df,pd.DataFrame({'method':'grassmann','repeat':i,'centroids':[C],'nmi':nmi,'label':[labels]})])"
   ]
  },
  {
   "cell_type": "markdown",
   "metadata": {},
   "source": [
    "mixture model setup"
   ]
  },
  {
   "cell_type": "code",
   "execution_count": 26,
   "metadata": {},
   "outputs": [],
   "source": [
    "from src.helper_functions import train_model\n",
    "options = {}\n",
    "options['init'] = 'dc_seg'\n",
    "options['LR'] = 0\n",
    "options['tol'] = 1e-8\n",
    "options['max_iter'] = 1000\n",
    "options['num_repl_inner'] = 1\n",
    "options['threads'] = 8\n",
    "options['HMM'] = False\n",
    "if options['LR']!=0:\n",
    "    import torch\n",
    "    u_all = torch.tensor(u_all)"
   ]
  },
  {
   "cell_type": "markdown",
   "metadata": {},
   "source": [
    "Watson mixture models"
   ]
  },
  {
   "cell_type": "code",
   "execution_count": 27,
   "metadata": {},
   "outputs": [
    {
     "name": "stdout",
     "output_type": "stream",
     "text": [
      "Running single component models as initialization\n",
      "Beginning EM loop\n"
     ]
    },
    {
     "name": "stderr",
     "output_type": "stream",
     "text": [
      "  0%|          | 0/1000 [00:00<?, ?it/s]"
     ]
    },
    {
     "name": "stderr",
     "output_type": "stream",
     "text": [
      "  1%|          | 6/1000 [00:00<00:31, 31.72it/s]\n"
     ]
    },
    {
     "name": "stdout",
     "output_type": "stream",
     "text": [
      "Running single component models as initialization\n",
      "Beginning EM loop\n"
     ]
    },
    {
     "name": "stderr",
     "output_type": "stream",
     "text": [
      "  1%|          | 6/1000 [00:00<00:31, 31.63it/s]\n"
     ]
    },
    {
     "name": "stdout",
     "output_type": "stream",
     "text": [
      "Running single component models as initialization\n",
      "Beginning EM loop\n"
     ]
    },
    {
     "name": "stderr",
     "output_type": "stream",
     "text": [
      "  1%|          | 7/1000 [00:00<00:31, 32.02it/s]\n"
     ]
    },
    {
     "name": "stdout",
     "output_type": "stream",
     "text": [
      "Running single component models as initialization\n",
      "Beginning EM loop\n"
     ]
    },
    {
     "name": "stderr",
     "output_type": "stream",
     "text": [
      "  1%|          | 6/1000 [00:00<00:31, 31.60it/s]\n"
     ]
    },
    {
     "name": "stdout",
     "output_type": "stream",
     "text": [
      "Running single component models as initialization\n",
      "Beginning EM loop\n"
     ]
    },
    {
     "name": "stderr",
     "output_type": "stream",
     "text": [
      "  1%|          | 6/1000 [00:00<00:37, 26.80it/s]\n"
     ]
    },
    {
     "name": "stdout",
     "output_type": "stream",
     "text": [
      "Running single component models as initialization\n",
      "Beginning EM loop\n"
     ]
    },
    {
     "name": "stderr",
     "output_type": "stream",
     "text": [
      "  1%|          | 6/1000 [00:00<00:33, 29.94it/s]\n"
     ]
    },
    {
     "name": "stdout",
     "output_type": "stream",
     "text": [
      "Running single component models as initialization\n",
      "Beginning EM loop\n"
     ]
    },
    {
     "name": "stderr",
     "output_type": "stream",
     "text": [
      "  1%|          | 6/1000 [00:00<00:31, 31.69it/s]\n"
     ]
    },
    {
     "name": "stdout",
     "output_type": "stream",
     "text": [
      "Running single component models as initialization\n",
      "Beginning EM loop\n"
     ]
    },
    {
     "name": "stderr",
     "output_type": "stream",
     "text": [
      "  1%|          | 6/1000 [00:00<00:31, 31.78it/s]\n"
     ]
    },
    {
     "name": "stdout",
     "output_type": "stream",
     "text": [
      "Running single component models as initialization\n",
      "Beginning EM loop\n"
     ]
    },
    {
     "name": "stderr",
     "output_type": "stream",
     "text": [
      "  1%|          | 6/1000 [00:00<00:31, 31.57it/s]\n"
     ]
    },
    {
     "name": "stdout",
     "output_type": "stream",
     "text": [
      "Running single component models as initialization\n",
      "Beginning EM loop\n"
     ]
    },
    {
     "name": "stderr",
     "output_type": "stream",
     "text": [
      "  1%|          | 6/1000 [00:00<00:31, 31.68it/s]\n"
     ]
    }
   ],
   "source": [
    "u_in = u_all[:,:,0]\n",
    "options['modelname'] = 'Watson'\n",
    "options['threads'] = 8\n",
    "options['rank'] = 1\n",
    "for i in range(num_repeats):\n",
    "    params,train_posterior,loglik_curve = train_model(data_train=u_in,K=2,options=options)\n",
    "    train_NMI = calc_NMI(true_labels,np.double(np.array(train_posterior)))\n",
    "    df = pd.concat([df,pd.DataFrame({'method':'Watson','repeat':i,'centroids':[params],'nmi':train_NMI,'label':[labels]})])"
   ]
  },
  {
   "cell_type": "markdown",
   "metadata": {},
   "source": [
    "ACG mixture models"
   ]
  },
  {
   "cell_type": "code",
   "execution_count": 28,
   "metadata": {},
   "outputs": [
    {
     "name": "stdout",
     "output_type": "stream",
     "text": [
      "Running single component models as initialization\n",
      "Beginning EM loop\n"
     ]
    },
    {
     "name": "stderr",
     "output_type": "stream",
     "text": [
      "  0%|          | 0/1000 [00:00<?, ?it/s]"
     ]
    },
    {
     "name": "stderr",
     "output_type": "stream",
     "text": [
      "  1%|          | 6/1000 [00:00<00:03, 275.03it/s]\n"
     ]
    },
    {
     "name": "stdout",
     "output_type": "stream",
     "text": [
      "Running single component models as initialization\n",
      "Beginning EM loop\n"
     ]
    },
    {
     "name": "stderr",
     "output_type": "stream",
     "text": [
      "  1%|          | 6/1000 [00:00<00:03, 288.50it/s]\n"
     ]
    },
    {
     "name": "stdout",
     "output_type": "stream",
     "text": [
      "Running single component models as initialization\n",
      "Beginning EM loop\n"
     ]
    },
    {
     "name": "stderr",
     "output_type": "stream",
     "text": [
      "  1%|          | 6/1000 [00:00<00:03, 286.25it/s]\n"
     ]
    },
    {
     "name": "stdout",
     "output_type": "stream",
     "text": [
      "Running single component models as initialization\n",
      "Beginning EM loop\n"
     ]
    },
    {
     "name": "stderr",
     "output_type": "stream",
     "text": [
      "  1%|          | 6/1000 [00:00<00:03, 288.23it/s]\n"
     ]
    },
    {
     "name": "stdout",
     "output_type": "stream",
     "text": [
      "Running single component models as initialization\n",
      "Beginning EM loop\n"
     ]
    },
    {
     "name": "stderr",
     "output_type": "stream",
     "text": [
      "  1%|          | 6/1000 [00:00<00:03, 287.10it/s]\n"
     ]
    },
    {
     "name": "stdout",
     "output_type": "stream",
     "text": [
      "Running single component models as initialization\n",
      "Beginning EM loop\n"
     ]
    },
    {
     "name": "stderr",
     "output_type": "stream",
     "text": [
      "  1%|          | 6/1000 [00:00<00:03, 286.23it/s]"
     ]
    },
    {
     "name": "stdout",
     "output_type": "stream",
     "text": [
      "Running single component models as initialization"
     ]
    },
    {
     "name": "stderr",
     "output_type": "stream",
     "text": [
      "\n"
     ]
    },
    {
     "name": "stdout",
     "output_type": "stream",
     "text": [
      "\n",
      "Beginning EM loop\n"
     ]
    },
    {
     "name": "stderr",
     "output_type": "stream",
     "text": [
      "  1%|          | 6/1000 [00:00<00:03, 285.50it/s]\n"
     ]
    },
    {
     "name": "stdout",
     "output_type": "stream",
     "text": [
      "Running single component models as initialization\n",
      "Beginning EM loop\n"
     ]
    },
    {
     "name": "stderr",
     "output_type": "stream",
     "text": [
      "  1%|          | 6/1000 [00:00<00:03, 285.36it/s]\n"
     ]
    },
    {
     "name": "stdout",
     "output_type": "stream",
     "text": [
      "Running single component models as initialization\n",
      "Beginning EM loop\n"
     ]
    },
    {
     "name": "stderr",
     "output_type": "stream",
     "text": [
      "  1%|          | 6/1000 [00:00<00:03, 287.56it/s]"
     ]
    },
    {
     "name": "stdout",
     "output_type": "stream",
     "text": [
      "Running single component models as initialization\n"
     ]
    },
    {
     "name": "stderr",
     "output_type": "stream",
     "text": [
      "\n"
     ]
    },
    {
     "name": "stdout",
     "output_type": "stream",
     "text": [
      "Beginning EM loop\n"
     ]
    },
    {
     "name": "stderr",
     "output_type": "stream",
     "text": [
      "  1%|          | 6/1000 [00:00<00:03, 288.79it/s]\n"
     ]
    }
   ],
   "source": [
    "u_in = u_all[:,:,0]\n",
    "options['modelname'] = 'ACG'\n",
    "options['threads'] = 8\n",
    "options['rank'] = 'fullrank'\n",
    "for i in range(num_repeats):\n",
    "    params,train_posterior,loglik_curve = train_model(data_train=u_in,K=2,options=options)\n",
    "    train_NMI = calc_NMI(true_labels,np.double(np.array(train_posterior)))\n",
    "    # Lambda = params['M']@np.swapaxes(params['M'],-2,-1)+np.eye(3)\n",
    "    Lambda=params['Lambda']\n",
    "    df = pd.concat([df,pd.DataFrame({'method':'ACG','repeat':i,'centroids':[Lambda],'nmi':train_NMI,'label':[labels]})])"
   ]
  },
  {
   "cell_type": "code",
   "execution_count": 29,
   "metadata": {},
   "outputs": [
    {
     "name": "stdout",
     "output_type": "stream",
     "text": [
      "Running single component models as initialization\n"
     ]
    },
    {
     "name": "stdout",
     "output_type": "stream",
     "text": [
      "Beginning EM loop\n"
     ]
    },
    {
     "name": "stderr",
     "output_type": "stream",
     "text": [
      "  1%|          | 6/1000 [00:00<01:23, 11.92it/s]\n"
     ]
    },
    {
     "name": "stdout",
     "output_type": "stream",
     "text": [
      "Running single component models as initialization\n",
      "Beginning EM loop\n"
     ]
    },
    {
     "name": "stderr",
     "output_type": "stream",
     "text": [
      "  1%|          | 6/1000 [00:00<01:21, 12.13it/s]\n"
     ]
    },
    {
     "name": "stdout",
     "output_type": "stream",
     "text": [
      "Running single component models as initialization\n",
      "Beginning EM loop\n"
     ]
    },
    {
     "name": "stderr",
     "output_type": "stream",
     "text": [
      "  1%|          | 6/1000 [00:00<01:23, 11.92it/s]\n"
     ]
    },
    {
     "name": "stdout",
     "output_type": "stream",
     "text": [
      "Running single component models as initialization\n",
      "Beginning EM loop\n"
     ]
    },
    {
     "name": "stderr",
     "output_type": "stream",
     "text": [
      "  1%|          | 6/1000 [00:00<01:23, 11.87it/s]\n"
     ]
    },
    {
     "name": "stdout",
     "output_type": "stream",
     "text": [
      "Running single component models as initialization\n",
      "Beginning EM loop\n"
     ]
    },
    {
     "name": "stderr",
     "output_type": "stream",
     "text": [
      "  1%|          | 6/1000 [00:00<01:23, 11.87it/s]\n"
     ]
    },
    {
     "name": "stdout",
     "output_type": "stream",
     "text": [
      "Running single component models as initialization\n",
      "Beginning EM loop\n"
     ]
    },
    {
     "name": "stderr",
     "output_type": "stream",
     "text": [
      "  1%|          | 6/1000 [00:00<01:56,  8.54it/s]\n"
     ]
    },
    {
     "name": "stdout",
     "output_type": "stream",
     "text": [
      "Running single component models as initialization\n",
      "Beginning EM loop\n"
     ]
    },
    {
     "name": "stderr",
     "output_type": "stream",
     "text": [
      "  1%|          | 6/1000 [00:00<01:23, 11.92it/s]\n"
     ]
    },
    {
     "name": "stdout",
     "output_type": "stream",
     "text": [
      "Running single component models as initialization\n",
      "Beginning EM loop\n"
     ]
    },
    {
     "name": "stderr",
     "output_type": "stream",
     "text": [
      "  1%|          | 6/1000 [00:00<01:23, 11.92it/s]\n"
     ]
    },
    {
     "name": "stdout",
     "output_type": "stream",
     "text": [
      "Running single component models as initialization\n",
      "Beginning EM loop\n"
     ]
    },
    {
     "name": "stderr",
     "output_type": "stream",
     "text": [
      "  1%|          | 6/1000 [00:00<01:23, 11.93it/s]\n"
     ]
    },
    {
     "name": "stdout",
     "output_type": "stream",
     "text": [
      "Running single component models as initialization\n",
      "Beginning EM loop\n"
     ]
    },
    {
     "name": "stderr",
     "output_type": "stream",
     "text": [
      "  1%|          | 6/1000 [00:00<01:23, 11.92it/s]\n"
     ]
    }
   ],
   "source": [
    "u_in = u_all\n",
    "options['modelname'] = 'MACG'\n",
    "options['threads'] = 8\n",
    "options['rank'] = 'fullrank'\n",
    "for i in range(num_repeats):\n",
    "    params,train_posterior,loglik_curve = train_model(data_train=u_in,K=2,options=options)\n",
    "    train_NMI = calc_NMI(true_labels,np.double(np.array(train_posterior)))\n",
    "    # Sigma = params['M']@np.swapaxes(params['M'],-2,-1)+np.eye(3)\n",
    "    Sigma = params['Lambda']\n",
    "    df = pd.concat([df,pd.DataFrame({'method':'MACG','repeat':i,'centroids':[Sigma],'nmi':train_NMI,'label':[labels]})])"
   ]
  },
  {
   "cell_type": "code",
   "execution_count": 30,
   "metadata": {},
   "outputs": [],
   "source": [
    "df.to_pickle('cluster_results.pkl')\n",
    "# save also the data\n",
    "np.save('cluster_data.npy',u_all)"
   ]
  }
 ],
 "metadata": {
  "kernelspec": {
   "display_name": "hcp",
   "language": "python",
   "name": "python3"
  },
  "language_info": {
   "codemirror_mode": {
    "name": "ipython",
    "version": 3
   },
   "file_extension": ".py",
   "mimetype": "text/x-python",
   "name": "python",
   "nbconvert_exporter": "python",
   "pygments_lexer": "ipython3",
   "version": "3.12.3"
  }
 },
 "nbformat": 4,
 "nbformat_minor": 2
}
