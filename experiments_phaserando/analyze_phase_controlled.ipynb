{
 "cells": [
  {
   "cell_type": "code",
   "execution_count": null,
   "metadata": {},
   "outputs": [
    {
     "ename": "",
     "evalue": "",
     "output_type": "error",
     "traceback": [
      "\u001b[1;31mFailed to start the Kernel. \n",
      "\u001b[1;31mUnable to start Kernel 'hcp (Python 3.10.13)' due to a timeout waiting for the ports to get used. \n",
      "\u001b[1;31mView Jupyter <a href='command:jupyter.viewOutput'>log</a> for further details."
     ]
    }
   ],
   "source": [
    "import numpy as np\n",
    "import pandas as pd\n",
    "import matplotlib.pyplot as plt\n",
    "import seaborn as sns"
   ]
  },
  {
   "cell_type": "code",
   "execution_count": null,
   "metadata": {},
   "outputs": [
    {
     "ename": "",
     "evalue": "",
     "output_type": "error",
     "traceback": [
      "\u001b[1;31mFailed to start the Kernel. \n",
      "\u001b[1;31mUnable to start Kernel 'hcp (Python 3.10.13)' due to a timeout waiting for the ports to get used. \n",
      "\u001b[1;31mView Jupyter <a href='command:jupyter.viewOutput'>log</a> for further details."
     ]
    }
   ],
   "source": [
    "def rename(df):\n",
    "    #rename column LR to Inference\n",
    "    df = df.rename(columns={'LR': 'Inference'})\n",
    "    #rename Inference level 0 to 'EM'\n",
    "    df['Inference'] = df['Inference'].replace(0, 'EM')\n",
    "    df['Inference'] = df['Inference'].replace(0.1, 'PyTorch')\n",
    "    # go through each row in the dataframe and add a name column\n",
    "    names = []\n",
    "    for i in range(len(df)):\n",
    "        if 'Watson' in df['modelname'][i]:\n",
    "            if df['HMM'][i]==False:\n",
    "                names.append(df['modelname'][i])\n",
    "            else:\n",
    "                names.append(df['modelname'][i]+' HMM')\n",
    "        elif df['modelname'][i] in ['ACG','MACG']:\n",
    "            if df['HMM'][i]==False:\n",
    "                names.append(df['modelname'][i]+' rank='+str(df['ACG_rank'][i]))\n",
    "            else:\n",
    "                names.append(df['modelname'][i]+' rank='+str(df['ACG_rank'][i])+' HMM')\n",
    "        else:\n",
    "            names.append('Unknown')\n",
    "    df['names'] = names\n",
    "    return df"
   ]
  },
  {
   "cell_type": "code",
   "execution_count": null,
   "metadata": {},
   "outputs": [
    {
     "ename": "",
     "evalue": "",
     "output_type": "error",
     "traceback": [
      "\u001b[1;31mFailed to start the Kernel. \n",
      "\u001b[1;31mUnable to start Kernel 'hcp (Python 3.10.13)' due to a timeout waiting for the ports to get used. \n",
      "\u001b[1;31mView Jupyter <a href='command:jupyter.viewOutput'>log</a> for further details."
     ]
    }
   ],
   "source": [
    "data_folder = '../data/results/torchvsEM_phase_controlled_results/'\n",
    "df1 = pd.read_csv(data_folder+'phase_controlled_EM_Watson.csv')\n",
    "df2 = pd.read_csv(data_folder+'phase_controlled_EM_ACG.csv')\n",
    "df3 = pd.read_csv(data_folder+'phase_controlled_EM_MACG.csv')\n",
    "df4 = pd.read_csv(data_folder+'phase_controlled_torch_Watson.csv')\n",
    "df5 = pd.read_csv(data_folder+'phase_controlled_torch_ACG.csv')\n",
    "df6 = pd.read_csv(data_folder+'phase_controlled_torch_MACG.csv')\n",
    "df = pd.concat([df1, df2, df3, df4, df5, df6], ignore_index=True)\n",
    "df = rename(df)\n",
    "df1 = pd.read_csv(data_folder+'phase_controlled_EM_Watson_initprevious.csv')\n",
    "df2 = pd.read_csv(data_folder+'phase_controlled_EM_ACG_initprevious.csv')\n",
    "df3 = pd.read_csv(data_folder+'phase_controlled_EM_MACG_initprevious.csv')\n",
    "df4 = pd.read_csv(data_folder+'phase_controlled_torch_Watson_initprevious.csv')\n",
    "df5 = pd.read_csv(data_folder+'phase_controlled_torch_ACG_initprevious.csv')\n",
    "df6 = pd.read_csv(data_folder+'phase_controlled_torch_MACG_initprevious.csv')\n",
    "df_initprevious = pd.concat([df1, df2, df3, df4, df5, df6], ignore_index=True)\n",
    "df_initprevious = rename(df_initprevious)\n",
    "df1 = pd.read_csv(data_folder+'phase_controlled_EM_Watson_initEM.csv')\n",
    "df2 = pd.read_csv(data_folder+'phase_controlled_EM_ACG_initEM.csv')\n",
    "df3 = pd.read_csv(data_folder+'phase_controlled_EM_MACG_initEM.csv')\n",
    "df4 = pd.read_csv(data_folder+'phase_controlled_torch_Watson_initEM.csv')\n",
    "df5 = pd.read_csv(data_folder+'phase_controlled_torch_ACG_initEM.csv')\n",
    "df6 = pd.read_csv(data_folder+'phase_controlled_torch_MACG_initEM.csv')\n",
    "df_initEM = pd.concat([df1, df2, df3, df4, df5, df6], ignore_index=True)\n",
    "df_initEM = rename(df_initEM)"
   ]
  },
  {
   "cell_type": "code",
   "execution_count": null,
   "metadata": {},
   "outputs": [
    {
     "ename": "",
     "evalue": "",
     "output_type": "error",
     "traceback": [
      "\u001b[1;31mFailed to start the Kernel. \n",
      "\u001b[1;31mUnable to start Kernel 'hcp (Python 3.10.13)' due to a timeout waiting for the ports to get used. \n",
      "\u001b[1;31mView Jupyter <a href='command:jupyter.viewOutput'>log</a> for further details."
     ]
    }
   ],
   "source": [
    "order = ['Watson','Watson HMM', \n",
    "         'ACG rank=1','ACG rank=1 HMM', 'ACG rank=5','ACG rank=5 HMM', 'ACG rank=10','ACG rank=10 HMM', 'ACG rank=25','ACG rank=25 HMM', 'ACG rank=50','ACG rank=50 HMM','ACG rank=fullrank', \n",
    "         'MACG rank=1','MACG rank=1 HMM', 'MACG rank=5','MACG rank=5 HMM', 'MACG rank=10','MACG rank=10 HMM', 'MACG rank=25','MACG rank=25 HMM', 'MACG rank=50','MACG rank=50 HMM','MACG rank=fullrank']\n",
    "plt.figure(figsize=(20,3))\n",
    "sns.boxplot(x='names', y='train_NMI', data=df,hue='Inference', order=order)\n",
    "plt.title('Initialization with dc++_seg')\n",
    "plt.xticks(rotation=45);"
   ]
  },
  {
   "cell_type": "code",
   "execution_count": null,
   "metadata": {},
   "outputs": [
    {
     "ename": "",
     "evalue": "",
     "output_type": "error",
     "traceback": [
      "\u001b[1;31mFailed to start the Kernel. \n",
      "\u001b[1;31mUnable to start Kernel 'hcp (Python 3.10.13)' due to a timeout waiting for the ports to get used. \n",
      "\u001b[1;31mView Jupyter <a href='command:jupyter.viewOutput'>log</a> for further details."
     ]
    }
   ],
   "source": [
    "order = ['Watson','Watson HMM', \n",
    "         'ACG rank=1','ACG rank=1 HMM', 'ACG rank=5','ACG rank=5 HMM', 'ACG rank=10','ACG rank=10 HMM', 'ACG rank=25','ACG rank=25 HMM', 'ACG rank=50','ACG rank=50 HMM','ACG rank=fullrank', \n",
    "         'MACG rank=1','MACG rank=1 HMM', 'MACG rank=5','MACG rank=5 HMM', 'MACG rank=10','MACG rank=10 HMM', 'MACG rank=25','MACG rank=25 HMM', 'MACG rank=50','MACG rank=50 HMM','MACG rank=fullrank']\n",
    "plt.figure(figsize=(20,3))\n",
    "sns.boxplot(x='names', y='train_NMI', data=df_initprevious,hue='Inference', order=order)\n",
    "plt.title('Initialization with previous model')\n",
    "plt.xticks(rotation=45);"
   ]
  },
  {
   "cell_type": "code",
   "execution_count": null,
   "metadata": {},
   "outputs": [
    {
     "ename": "",
     "evalue": "",
     "output_type": "error",
     "traceback": [
      "\u001b[1;31mFailed to start the Kernel. \n",
      "\u001b[1;31mUnable to start Kernel 'hcp (Python 3.10.13)' due to a timeout waiting for the ports to get used. \n",
      "\u001b[1;31mView Jupyter <a href='command:jupyter.viewOutput'>log</a> for further details."
     ]
    }
   ],
   "source": [
    "order = ['Watson','Watson HMM', \n",
    "         'ACG rank=1','ACG rank=1 HMM', 'ACG rank=5','ACG rank=5 HMM', 'ACG rank=10','ACG rank=10 HMM', 'ACG rank=25','ACG rank=25 HMM', 'ACG rank=50','ACG rank=50 HMM','ACG rank=fullrank', \n",
    "         'MACG rank=1','MACG rank=1 HMM', 'MACG rank=5','MACG rank=5 HMM', 'MACG rank=10','MACG rank=10 HMM', 'MACG rank=25','MACG rank=25 HMM', 'MACG rank=50','MACG rank=50 HMM','MACG rank=fullrank']\n",
    "plt.figure(figsize=(20,3))\n",
    "sns.boxplot(x='names', y='train_NMI', data=df_initEM,hue='Inference', order=order)\n",
    "plt.title('Initialization with EM')\n",
    "plt.xticks(rotation=45);"
   ]
  }
 ],
 "metadata": {
  "kernelspec": {
   "display_name": "Python 3",
   "language": "python",
   "name": "python3"
  },
  "language_info": {
   "codemirror_mode": {
    "name": "ipython",
    "version": 3
   },
   "file_extension": ".py",
   "mimetype": "text/x-python",
   "name": "python",
   "nbconvert_exporter": "python",
   "pygments_lexer": "ipython3",
   "version": "3.10.13"
  }
 },
 "nbformat": 4,
 "nbformat_minor": 2
}
